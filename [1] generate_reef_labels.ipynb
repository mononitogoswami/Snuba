{
 "cells": [
  {
   "cell_type": "code",
   "execution_count": 2,
   "metadata": {},
   "outputs": [],
   "source": [
    "import sys\n",
    "sys.path.append('../')\n",
    "\n",
    "%load_ext autoreload\n",
    "%autoreload 2\n",
    "\n",
    "import numpy as np\n",
    "import matplotlib.pyplot as plt\n",
    "%matplotlib inline\n",
    "\n",
    "import warnings\n",
    "warnings.filterwarnings(\"ignore\")\n",
    "\n",
    "from sklearn.model_selection import train_test_split\n",
    "from preprocess_data import *"
   ]
  },
  {
   "cell_type": "markdown",
   "metadata": {},
   "source": [
    "# Load Dataset\n",
    "For this tutorial, we will use a IMDb dataset with plots and associated genres. We define our task as classifying the plots as those of action or romance movies based only on the plot text. \n",
    "\n",
    "The data is in `data/imdb/budgetandactors.txt`, which contains the plot and genre information about movies from the IMDb database. We pre-process the data below to generate the following:\n",
    "* Featurize the plot text using bag-of-words representation\n",
    "* Split the dataset into train, val, and test\n",
    "\n",
    "**TODO: Featurize in loader and load in the words each feature represents**"
   ]
  },
  {
   "cell_type": "code",
   "execution_count": 3,
   "metadata": {},
   "outputs": [],
   "source": [
    "# dataset='imdb'\n",
    "\n",
    "# from data.loader import DataLoader\n",
    "# dl = DataLoader()\n",
    "# train_primitive_matrix, val_primitive_matrix, test_primitive_matrix, \\\n",
    "# train_ground, val_ground, test_ground, _, _, _ = dl.load_data(dataset=dataset)"
   ]
  },
  {
   "cell_type": "code",
   "execution_count": 26,
   "metadata": {
    "scrolled": true
   },
   "outputs": [
    {
     "name": "stdout",
     "output_type": "stream",
     "text": [
      "Shape of data: (920, 14)\n",
      "    Age  Sex  Chest pain type Resting blood pressure  \\\n",
      "0  28.0  1.0              2.0                    130   \n",
      "1  29.0  1.0              2.0                    120   \n",
      "2  29.0  1.0              2.0                    140   \n",
      "3  30.0  0.0              1.0                    170   \n",
      "4  31.0  0.0              2.0                    100   \n",
      "\n",
      "  Serum cholestoral in mg/dl fasting blood sugar  \\\n",
      "0                        132                   0   \n",
      "1                        243                   0   \n",
      "2                          ?                   0   \n",
      "3                        237                   0   \n",
      "4                        219                   0   \n",
      "\n",
      "  Resting electrocardiographic results Maximum heart rate achieved  \\\n",
      "0                                    2                         185   \n",
      "1                                    0                         160   \n",
      "2                                    0                         170   \n",
      "3                                    1                         170   \n",
      "4                                    1                         150   \n",
      "\n",
      "  Exercise induced angina ST depression induced by exercise relative to rest  \\\n",
      "0                       0                                                0.0   \n",
      "1                       0                                                0.0   \n",
      "2                       0                                                0.0   \n",
      "3                       0                                                0.0   \n",
      "4                       0                                                0.0   \n",
      "\n",
      "  Slope of the peak exercise ST segment  \\\n",
      "0                                     ?   \n",
      "1                                     ?   \n",
      "2                                     ?   \n",
      "3                                     ?   \n",
      "4                                     ?   \n",
      "\n",
      "  Number of major vessels (0-3) colored by flourosopy thal  Class  \n",
      "0                                                  ?     ?      0  \n",
      "1                                                  ?     ?      0  \n",
      "2                                                  ?     ?      0  \n",
      "3                                                  ?     6      0  \n",
      "4                                                  ?     ?      0  \n",
      "\n",
      "RF (fully-supervised) accuracy =  0.7989130434782609 \n",
      "\n",
      "Length of training primitives: (706, 13)\n",
      "Length of validation primitives: (30, 13)\n"
     ]
    }
   ],
   "source": [
    "# Load the dataset\n",
    "train_primitive_matrix, test_primitive_matrix,\\\n",
    "train_ground, test_ground, feature_names = preprocess_heart_disease(data_path='../datasets/heart-diseases/')\n",
    "\n",
    "# REMEMBER THAT SNUBA EXPECTS LABELS TO  BE -1 and + 1\n",
    "train_ground[train_ground == 0] = -1\n",
    "test_ground[test_ground == 0] = -1\n",
    "\n",
    "# The validation dataset is labelled and the training is unlabelled\n",
    "num_val_labels = 30\n",
    "\n",
    "train_primitive_matrix, val_primitive_matrix,\\\n",
    "train_ground, val_ground = train_test_split(train_primitive_matrix,\n",
    "                                            train_ground, \n",
    "                                            test_size=num_val_labels/len(train_primitive_matrix), \n",
    "                                            random_state=13)\n",
    "\n",
    "print(f'Length of training primitives: {train_primitive_matrix.shape}')\n",
    "print(f'Length of validation primitives: {val_primitive_matrix.shape}')\n",
    "\n",
    "# print(f'Training ground truth: {train_ground}')"
   ]
  },
  {
   "cell_type": "markdown",
   "metadata": {},
   "source": [
    "# Reef Steps\n",
    "Reef generates heuristics in an iterative manner, with each iteration consisting of the following steps:\n",
    "1. Synthesize Heuristics\n",
    "2. Prune Heuristics\n",
    "3. Verify Heuristics\n",
    "\n",
    "In this tutorial, we go through the three stages of Reef individually and then repeat the process iteratively."
   ]
  },
  {
   "cell_type": "markdown",
   "metadata": {},
   "source": [
    "In the cell below, we run a single iteration by calling the `run_synthesizer` function. We pass in the primitive matrices for the `train` and `val` sets, along with ground truth labels for `val`. While we also pass in ground truth labels for `train`, this is solely for evaluation purposes. \n",
    "\n",
    "`max_cardinality` is the maximum number of primitives a heuristic takes as input, `keep` is how many heuristics the pruner should select (3 for the first iteration, 1 after that) and `model` is the type of heuristic to generate, in this case, `decision_tree`. \n",
    "\n",
    "_This cell does not output anything, only saves values in HeuristicGenerator._"
   ]
  },
  {
   "cell_type": "code",
   "execution_count": 5,
   "metadata": {},
   "outputs": [],
   "source": [
    "from program_synthesis.heuristic_generator import HeuristicGenerator\n",
    "\n",
    "hg = HeuristicGenerator(train_primitive_matrix, val_primitive_matrix, val_ground, train_ground, b=0.5)\n",
    "hg.run_synthesizer(max_cardinality=1, idx=None, keep=3, model='dt')"
   ]
  },
  {
   "cell_type": "markdown",
   "metadata": {},
   "source": [
    "## 1. Synthesize Heuristics\n",
    "We start by generating all possible heuristics based on the labeled, validation set that take in a single feature (i.e. word for this example) as input. \n",
    "\n",
    "For this example, we use decision trees with maximum depth 1 (`dt`) as our heuristic form. This translates to checking whether a certain word exists or does not exist in the text to assign a label. We first generate all possible heuristics that take a single feature in as input."
   ]
  },
  {
   "cell_type": "code",
   "execution_count": 6,
   "metadata": {},
   "outputs": [
    {
     "name": "stdout",
     "output_type": "stream",
     "text": [
      "Total Heuristics Generated:  9\n"
     ]
    }
   ],
   "source": [
    "from program_synthesis.synthesizer import Synthesizer\n",
    "syn = Synthesizer(val_primitive_matrix, val_ground, b=0.5)\n",
    "\n",
    "heuristics, feature_inputs = syn.generate_heuristics('dt', 1)\n",
    "print(\"Total Heuristics Generated: \", np.shape(heuristics)[1])"
   ]
  },
  {
   "cell_type": "markdown",
   "metadata": {},
   "source": [
    "For each generated heuristic, we find an associated $\\beta$ value.  This corresponds to defining a region of **low confidence** labels, which the heuristic will abstain for, while labeling the rest of the datapoints as $1$ or $-1$."
   ]
  },
  {
   "cell_type": "code",
   "execution_count": 7,
   "metadata": {},
   "outputs": [
    {
     "data": {
      "image/png": "[encoded data removed]",
      "text/plain": [
       "<Figure size 432x288 with 1 Axes>"
      ]
     },
     "metadata": {
      "needs_background": "light"
     },
     "output_type": "display_data"
    }
   ],
   "source": [
    "optimal_betas = syn.find_optimal_beta(heuristics[0], val_primitive_matrix, feature_inputs[0], val_ground)\n",
    "plt.hist(optimal_betas, range=(0,0.5));\n",
    "plt.xlabel('Beta Values');"
   ]
  },
  {
   "cell_type": "markdown",
   "metadata": {},
   "source": [
    "## 2. Prune Heuristics\n",
    "In the first iteration, we simply pick the 3 heuristics that perform the best on the labeled validation set. "
   ]
  },
  {
   "cell_type": "code",
   "execution_count": 8,
   "metadata": {},
   "outputs": [
    {
     "name": "stdout",
     "output_type": "stream",
     "text": [
      "Features chosen heuristics are based on:  [6 3 7]\n"
     ]
    }
   ],
   "source": [
    "top_idx = hg.prune_heuristics(heuristics, feature_inputs, keep=3)\n",
    "print('Features chosen heuristics are based on: ', top_idx)"
   ]
  },
  {
   "cell_type": "markdown",
   "metadata": {},
   "source": [
    "In subsequent iterations (step 4), we weight the Jaccard score (overlap of how many datapoints in the train set receive labels and how many are labeled by existing heuristics) and F1 score equally. We demonstrate this with a toy vector of previously labeled data."
   ]
  },
  {
   "cell_type": "markdown",
   "metadata": {},
   "source": [
    "## 3. Verify Heuristics\n",
    "In this step, we use the labels the heuristics assign to the **unlabeled train set** to estimate heuristic accuracies and assign probabilistic training labels to the same set accordingly (see [snorkel.stanford.edu](http://snorkel.stanford.edu) for more details). "
   ]
  },
  {
   "cell_type": "code",
   "execution_count": 9,
   "metadata": {
    "scrolled": true
   },
   "outputs": [],
   "source": [
    "from program_synthesis.verifier import Verifier\n",
    "verifier = Verifier(hg.L_train, hg.L_val, val_ground, has_snorkel=False)\n",
    "\n",
    "verifier.train_gen_model()\n",
    "verifier.assign_marginals()"
   ]
  },
  {
   "cell_type": "markdown",
   "metadata": {},
   "source": [
    "We visualize what these labels look like. Note that with a single iteration, none of the datapoints receive a probabilistic label greater than 0.5, but this is fixed after running the process iteratively (Step 4). __These labels are then used to train an end model, such as an LSTM, and not used as final predictions.__ "
   ]
  },
  {
   "cell_type": "code",
   "execution_count": 10,
   "metadata": {},
   "outputs": [
    {
     "data": {
      "image/png": "[encoded data removed]",
      "text/plain": [
       "<Figure size 432x288 with 1 Axes>"
      ]
     },
     "metadata": {
      "needs_background": "light"
     },
     "output_type": "display_data"
    }
   ],
   "source": [
    "plt.hist(verifier.train_marginals); plt.title('Training Set Probabilistic Labels');"
   ]
  },
  {
   "cell_type": "markdown",
   "metadata": {},
   "source": [
    "Since we do not have access to ground truth labels for the train set, we use the distribution of labels for the labeled validation set to decide what feedback to pass to the synthesizer. We pass datapoints with low confidence (labels near 0.5, i.e. equal probability of being +1 or -1) to the synthesizer"
   ]
  },
  {
   "cell_type": "code",
   "execution_count": 11,
   "metadata": {},
   "outputs": [
    {
     "name": "stdout",
     "output_type": "stream",
     "text": [
      "Percentage of Low Confidence Points:  0.0\n"
     ]
    },
    {
     "data": {
      "image/png": "[encoded data removed]",
      "text/plain": [
       "<Figure size 432x288 with 1 Axes>"
      ]
     },
     "metadata": {
      "needs_background": "light"
     },
     "output_type": "display_data"
    }
   ],
   "source": [
    "plt.hist(verifier.val_marginals); plt.title('Validation Set Probabilistic Labels');\n",
    "feedback_idx = verifier.find_vague_points(gamma=0.1,b=0.5)\n",
    "print('Percentage of Low Confidence Points: ', np.shape(feedback_idx)[0]/float(np.shape(val_ground)[0]))"
   ]
  },
  {
   "cell_type": "markdown",
   "metadata": {},
   "source": [
    "## 4. Repeat Iterative Process of Generating Heuristics\n",
    "We repeat this process of synthesizing, pruning, and verifying heuristics iteratively. In this example, we generate 25 total heuristics. \n",
    "\n",
    "_Note that this process wil take a few minutes to run since heuristic generation is not currently optimized in any manner_"
   ]
  },
  {
   "cell_type": "code",
   "execution_count": 27,
   "metadata": {},
   "outputs": [
    {
     "name": "stdout",
     "output_type": "stream",
     "text": [
      "Running iteration:  5\n",
      "Running iteration:  10\n"
     ]
    },
    {
     "ename": "IndexError",
     "evalue": "index 1 is out of bounds for axis 1 with size 1",
     "output_type": "error",
     "traceback": [
      "\u001b[0;31m---------------------------------------------------------------------------\u001b[0m",
      "\u001b[0;31mIndexError\u001b[0m                                Traceback (most recent call last)",
      "\u001b[0;32m<ipython-input-27-ba6da1547938>\u001b[0m in \u001b[0;36m<module>\u001b[0;34m\u001b[0m\n\u001b[1;32m     19\u001b[0m         \u001b[0mhg\u001b[0m\u001b[0;34m.\u001b[0m\u001b[0mrun_synthesizer\u001b[0m\u001b[0;34m(\u001b[0m\u001b[0mmax_cardinality\u001b[0m\u001b[0;34m=\u001b[0m\u001b[0;36m1\u001b[0m\u001b[0;34m,\u001b[0m \u001b[0midx\u001b[0m\u001b[0;34m=\u001b[0m\u001b[0midx\u001b[0m\u001b[0;34m,\u001b[0m \u001b[0mkeep\u001b[0m\u001b[0;34m=\u001b[0m\u001b[0;36m3\u001b[0m\u001b[0;34m,\u001b[0m \u001b[0mmodel\u001b[0m\u001b[0;34m=\u001b[0m\u001b[0;34m'dt'\u001b[0m\u001b[0;34m)\u001b[0m\u001b[0;34m\u001b[0m\u001b[0;34m\u001b[0m\u001b[0m\n\u001b[1;32m     20\u001b[0m     \u001b[0;32melse\u001b[0m\u001b[0;34m:\u001b[0m\u001b[0;34m\u001b[0m\u001b[0;34m\u001b[0m\u001b[0m\n\u001b[0;32m---> 21\u001b[0;31m         \u001b[0mhg\u001b[0m\u001b[0;34m.\u001b[0m\u001b[0mrun_synthesizer\u001b[0m\u001b[0;34m(\u001b[0m\u001b[0mmax_cardinality\u001b[0m\u001b[0;34m=\u001b[0m\u001b[0;36m1\u001b[0m\u001b[0;34m,\u001b[0m \u001b[0midx\u001b[0m\u001b[0;34m=\u001b[0m\u001b[0midx\u001b[0m\u001b[0;34m,\u001b[0m \u001b[0mkeep\u001b[0m\u001b[0;34m=\u001b[0m\u001b[0;36m1\u001b[0m\u001b[0;34m,\u001b[0m \u001b[0mmodel\u001b[0m\u001b[0;34m=\u001b[0m\u001b[0;34m'dt'\u001b[0m\u001b[0;34m)\u001b[0m\u001b[0;34m\u001b[0m\u001b[0;34m\u001b[0m\u001b[0m\n\u001b[0m\u001b[1;32m     22\u001b[0m     \u001b[0mhg\u001b[0m\u001b[0;34m.\u001b[0m\u001b[0mrun_verifier\u001b[0m\u001b[0;34m(\u001b[0m\u001b[0;34m)\u001b[0m\u001b[0;34m\u001b[0m\u001b[0;34m\u001b[0m\u001b[0m\n\u001b[1;32m     23\u001b[0m \u001b[0;34m\u001b[0m\u001b[0m\n",
      "\u001b[0;32m~/active_weak_supervision/Snuba/program_synthesis/heuristic_generator.py\u001b[0m in \u001b[0;36mrun_synthesizer\u001b[0;34m(self, max_cardinality, idx, keep, model)\u001b[0m\n\u001b[1;32m    138\u001b[0m         \u001b[0;31m#Select keep best heuristics from generated heuristics\u001b[0m\u001b[0;34m\u001b[0m\u001b[0;34m\u001b[0m\u001b[0;34m\u001b[0m\u001b[0m\n\u001b[1;32m    139\u001b[0m         \u001b[0mhf\u001b[0m\u001b[0;34m,\u001b[0m \u001b[0mfeat_combos\u001b[0m \u001b[0;34m=\u001b[0m \u001b[0mself\u001b[0m\u001b[0;34m.\u001b[0m\u001b[0msyn\u001b[0m\u001b[0;34m.\u001b[0m\u001b[0mgenerate_heuristics\u001b[0m\u001b[0;34m(\u001b[0m\u001b[0mmodel\u001b[0m\u001b[0;34m,\u001b[0m \u001b[0mmax_cardinality\u001b[0m\u001b[0;34m)\u001b[0m\u001b[0;34m\u001b[0m\u001b[0;34m\u001b[0m\u001b[0m\n\u001b[0;32m--> 140\u001b[0;31m         \u001b[0msort_idx\u001b[0m \u001b[0;34m=\u001b[0m \u001b[0mself\u001b[0m\u001b[0;34m.\u001b[0m\u001b[0mprune_heuristics\u001b[0m\u001b[0;34m(\u001b[0m\u001b[0mhf\u001b[0m\u001b[0;34m,\u001b[0m\u001b[0mfeat_combos\u001b[0m\u001b[0;34m,\u001b[0m \u001b[0mkeep\u001b[0m\u001b[0;34m)\u001b[0m\u001b[0;34m\u001b[0m\u001b[0;34m\u001b[0m\u001b[0m\n\u001b[0m\u001b[1;32m    141\u001b[0m         \u001b[0;32mfor\u001b[0m \u001b[0mi\u001b[0m \u001b[0;32min\u001b[0m \u001b[0msort_idx\u001b[0m\u001b[0;34m:\u001b[0m\u001b[0;34m\u001b[0m\u001b[0;34m\u001b[0m\u001b[0m\n\u001b[1;32m    142\u001b[0m             \u001b[0mself\u001b[0m\u001b[0;34m.\u001b[0m\u001b[0mhf\u001b[0m\u001b[0;34m.\u001b[0m\u001b[0mappend\u001b[0m\u001b[0;34m(\u001b[0m\u001b[0mindex\u001b[0m\u001b[0;34m(\u001b[0m\u001b[0mhf\u001b[0m\u001b[0;34m,\u001b[0m\u001b[0mi\u001b[0m\u001b[0;34m)\u001b[0m\u001b[0;34m)\u001b[0m\u001b[0;34m\u001b[0m\u001b[0;34m\u001b[0m\u001b[0m\n",
      "\u001b[0;32m~/active_weak_supervision/Snuba/program_synthesis/heuristic_generator.py\u001b[0m in \u001b[0;36mprune_heuristics\u001b[0;34m(self, heuristics, feat_combos, keep)\u001b[0m\n\u001b[1;32m     72\u001b[0m         \u001b[0;32mfor\u001b[0m \u001b[0mi\u001b[0m \u001b[0;32min\u001b[0m \u001b[0mrange\u001b[0m\u001b[0;34m(\u001b[0m\u001b[0mmax_cardinality\u001b[0m\u001b[0;34m)\u001b[0m\u001b[0;34m:\u001b[0m\u001b[0;34m\u001b[0m\u001b[0;34m\u001b[0m\u001b[0m\n\u001b[1;32m     73\u001b[0m             \u001b[0;31m#Note that the LFs are being applied to the entire val set though they were developed on a subset...\u001b[0m\u001b[0;34m\u001b[0m\u001b[0;34m\u001b[0m\u001b[0;34m\u001b[0m\u001b[0m\n\u001b[0;32m---> 74\u001b[0;31m             \u001b[0mbeta_opt_temp\u001b[0m \u001b[0;34m=\u001b[0m \u001b[0mself\u001b[0m\u001b[0;34m.\u001b[0m\u001b[0msyn\u001b[0m\u001b[0;34m.\u001b[0m\u001b[0mfind_optimal_beta\u001b[0m\u001b[0;34m(\u001b[0m\u001b[0mheuristics\u001b[0m\u001b[0;34m[\u001b[0m\u001b[0mi\u001b[0m\u001b[0;34m]\u001b[0m\u001b[0;34m,\u001b[0m \u001b[0mself\u001b[0m\u001b[0;34m.\u001b[0m\u001b[0mval_primitive_matrix\u001b[0m\u001b[0;34m,\u001b[0m \u001b[0mfeat_combos\u001b[0m\u001b[0;34m[\u001b[0m\u001b[0mi\u001b[0m\u001b[0;34m]\u001b[0m\u001b[0;34m,\u001b[0m \u001b[0mself\u001b[0m\u001b[0;34m.\u001b[0m\u001b[0mval_ground\u001b[0m\u001b[0;34m)\u001b[0m\u001b[0;34m\u001b[0m\u001b[0;34m\u001b[0m\u001b[0m\n\u001b[0m\u001b[1;32m     75\u001b[0m             \u001b[0mL_temp_val\u001b[0m \u001b[0;34m=\u001b[0m \u001b[0mself\u001b[0m\u001b[0;34m.\u001b[0m\u001b[0mapply_heuristics\u001b[0m\u001b[0;34m(\u001b[0m\u001b[0mheuristics\u001b[0m\u001b[0;34m[\u001b[0m\u001b[0mi\u001b[0m\u001b[0;34m]\u001b[0m\u001b[0;34m,\u001b[0m \u001b[0mself\u001b[0m\u001b[0;34m.\u001b[0m\u001b[0mval_primitive_matrix\u001b[0m\u001b[0;34m,\u001b[0m \u001b[0mfeat_combos\u001b[0m\u001b[0;34m[\u001b[0m\u001b[0mi\u001b[0m\u001b[0;34m]\u001b[0m\u001b[0;34m,\u001b[0m \u001b[0mbeta_opt_temp\u001b[0m\u001b[0;34m)\u001b[0m\u001b[0;34m\u001b[0m\u001b[0;34m\u001b[0m\u001b[0m\n\u001b[1;32m     76\u001b[0m             \u001b[0mL_temp_train\u001b[0m \u001b[0;34m=\u001b[0m \u001b[0mself\u001b[0m\u001b[0;34m.\u001b[0m\u001b[0mapply_heuristics\u001b[0m\u001b[0;34m(\u001b[0m\u001b[0mheuristics\u001b[0m\u001b[0;34m[\u001b[0m\u001b[0mi\u001b[0m\u001b[0;34m]\u001b[0m\u001b[0;34m,\u001b[0m \u001b[0mself\u001b[0m\u001b[0;34m.\u001b[0m\u001b[0mtrain_primitive_matrix\u001b[0m\u001b[0;34m,\u001b[0m \u001b[0mfeat_combos\u001b[0m\u001b[0;34m[\u001b[0m\u001b[0mi\u001b[0m\u001b[0;34m]\u001b[0m\u001b[0;34m,\u001b[0m \u001b[0mbeta_opt_temp\u001b[0m\u001b[0;34m)\u001b[0m\u001b[0;34m\u001b[0m\u001b[0;34m\u001b[0m\u001b[0m\n",
      "\u001b[0;32m~/active_weak_supervision/Snuba/program_synthesis/synthesizer.py\u001b[0m in \u001b[0;36mfind_optimal_beta\u001b[0;34m(self, heuristics, X, feat_combos, ground)\u001b[0m\n\u001b[1;32m    123\u001b[0m         \u001b[0;32mfor\u001b[0m \u001b[0mi\u001b[0m\u001b[0;34m,\u001b[0m\u001b[0mhf\u001b[0m \u001b[0;32min\u001b[0m \u001b[0menumerate\u001b[0m\u001b[0;34m(\u001b[0m\u001b[0mheuristics\u001b[0m\u001b[0;34m)\u001b[0m\u001b[0;34m:\u001b[0m\u001b[0;34m\u001b[0m\u001b[0;34m\u001b[0m\u001b[0m\n\u001b[1;32m    124\u001b[0m             \u001b[0;31m# print(hf.predict_proba(X[:,feat_combos[i]]))\u001b[0m\u001b[0;34m\u001b[0m\u001b[0;34m\u001b[0m\u001b[0;34m\u001b[0m\u001b[0m\n\u001b[0;32m--> 125\u001b[0;31m             \u001b[0mmarginals\u001b[0m \u001b[0;34m=\u001b[0m \u001b[0mhf\u001b[0m\u001b[0;34m.\u001b[0m\u001b[0mpredict_proba\u001b[0m\u001b[0;34m(\u001b[0m\u001b[0mX\u001b[0m\u001b[0;34m[\u001b[0m\u001b[0;34m:\u001b[0m\u001b[0;34m,\u001b[0m\u001b[0mfeat_combos\u001b[0m\u001b[0;34m[\u001b[0m\u001b[0mi\u001b[0m\u001b[0;34m]\u001b[0m\u001b[0;34m]\u001b[0m\u001b[0;34m)\u001b[0m\u001b[0;34m[\u001b[0m\u001b[0;34m:\u001b[0m\u001b[0;34m,\u001b[0m\u001b[0;36m1\u001b[0m\u001b[0;34m]\u001b[0m\u001b[0;34m\u001b[0m\u001b[0;34m\u001b[0m\u001b[0m\n\u001b[0m\u001b[1;32m    126\u001b[0m             \u001b[0mlabels_cutoff\u001b[0m \u001b[0;34m=\u001b[0m \u001b[0mnp\u001b[0m\u001b[0;34m.\u001b[0m\u001b[0mzeros\u001b[0m\u001b[0;34m(\u001b[0m\u001b[0mnp\u001b[0m\u001b[0;34m.\u001b[0m\u001b[0mshape\u001b[0m\u001b[0;34m(\u001b[0m\u001b[0mmarginals\u001b[0m\u001b[0;34m)\u001b[0m\u001b[0;34m)\u001b[0m\u001b[0;34m\u001b[0m\u001b[0;34m\u001b[0m\u001b[0m\n\u001b[1;32m    127\u001b[0m             \u001b[0mbeta_opt\u001b[0m\u001b[0;34m.\u001b[0m\u001b[0mappend\u001b[0m\u001b[0;34m(\u001b[0m\u001b[0;34m(\u001b[0m\u001b[0mself\u001b[0m\u001b[0;34m.\u001b[0m\u001b[0mbeta_optimizer\u001b[0m\u001b[0;34m(\u001b[0m\u001b[0mmarginals\u001b[0m\u001b[0;34m,\u001b[0m \u001b[0mground\u001b[0m\u001b[0;34m)\u001b[0m\u001b[0;34m)\u001b[0m\u001b[0;34m)\u001b[0m\u001b[0;34m\u001b[0m\u001b[0;34m\u001b[0m\u001b[0m\n",
      "\u001b[0;31mIndexError\u001b[0m: index 1 is out of bounds for axis 1 with size 1"
     ]
    },
    {
     "data": {
      "image/png": "[encoded data removed]",
      "text/plain": [
       "<Figure size 864x432 with 6 Axes>"
      ]
     },
     "metadata": {
      "needs_background": "light"
     },
     "output_type": "display_data"
    }
   ],
   "source": [
    "validation_accuracy = []\n",
    "training_accuracy = []\n",
    "validation_coverage = []\n",
    "training_coverage = []\n",
    "\n",
    "training_marginals = []\n",
    "idx = None\n",
    "\n",
    "hg = HeuristicGenerator(train_primitive_matrix, val_primitive_matrix, \n",
    "                            val_ground, train_ground, \n",
    "                            b=0.5)\n",
    "plt.figure(figsize=(12,6));\n",
    "for i in range(3,26):\n",
    "    if (i-2)%5 == 0:\n",
    "        print(\"Running iteration: \", str(i-2))\n",
    "        \n",
    "    #Repeat synthesize-prune-verify at each iterations\n",
    "    if i == 3:\n",
    "        hg.run_synthesizer(max_cardinality=1, idx=idx, keep=3, model='dt')\n",
    "    else:\n",
    "        hg.run_synthesizer(max_cardinality=1, idx=idx, keep=1, model='dt')\n",
    "    hg.run_verifier()\n",
    "    \n",
    "    #Save evaluation metrics\n",
    "    va, ta, vc, tc = hg.evaluate()\n",
    "    validation_accuracy.append(va)\n",
    "    training_accuracy.append(ta)\n",
    "    training_marginals.append(hg.vf.train_marginals)\n",
    "    validation_coverage.append(vc)\n",
    "    training_coverage.append(tc)\n",
    "    \n",
    "    #Plot Training Set Label Distribution\n",
    "    if i <= 8:\n",
    "        plt.subplot(2,3,i-2)\n",
    "        plt.hist(training_marginals[-1], bins=10, range=(0.0,1.0)); \n",
    "        plt.title('Iteration ' + str(i-2));\n",
    "        plt.xlim([0.0,1.0])\n",
    "        plt.ylim([0,825])\n",
    "    \n",
    "    #Find low confidence datapoints in the labeled set\n",
    "    hg.find_feedback()\n",
    "    idx = hg.feedback_idx\n",
    "    \n",
    "    #Stop the iterative process when no low confidence labels\n",
    "    if idx == []:\n",
    "        break\n",
    "plt.tight_layout()"
   ]
  },
  {
   "cell_type": "markdown",
   "metadata": {},
   "source": [
    "In the plots above, we show the distribution of probabilistic labels Reef assigns to the training set in the first few iterations.\n",
    "\n",
    "Next, we look at the accuracy and coverage of labels assigned to the training set in the _last_ iteration. The coverage is the percentage of training set datapoints that receive at least one label from the generated heuristics."
   ]
  },
  {
   "cell_type": "code",
   "execution_count": 28,
   "metadata": {},
   "outputs": [
    {
     "name": "stdout",
     "output_type": "stream",
     "text": [
      "Program Synthesis Train Accuracy:  0.7237960339943342\n",
      "Program Synthesis Train Coverage:  1.0\n",
      "Program Synthesis Validation Accuracy:  0.9666666666666667\n"
     ]
    },
    {
     "data": {
      "image/png": "[encoded data removed]",
      "text/plain": [
       "<Figure size 432x288 with 1 Axes>"
      ]
     },
     "metadata": {
      "needs_background": "light"
     },
     "output_type": "display_data"
    }
   ],
   "source": [
    "plt.hist(training_marginals[-1], bins=10, range=(0.0,1.0)); \n",
    "plt.title('Final Distribution');\n",
    "\n",
    "print(\"Program Synthesis Train Accuracy: \", training_accuracy[-1])\n",
    "print(\"Program Synthesis Train Coverage: \", training_coverage[-1])\n",
    "print(\"Program Synthesis Validation Accuracy: \", validation_accuracy[-1])"
   ]
  },
  {
   "cell_type": "markdown",
   "metadata": {},
   "source": [
    "### Save Training Set Labels \n",
    "We save the training set labels Reef generates that we use in the next notebook to train a simple LSTM model."
   ]
  },
  {
   "cell_type": "code",
   "execution_count": 13,
   "metadata": {},
   "outputs": [],
   "source": [
    "filepath = './data/' + dataset\n",
    "np.save(filepath+'_reef.npy', training_marginals[-1])"
   ]
  }
 ],
 "metadata": {
  "kernelspec": {
   "display_name": "Python 3",
   "language": "python",
   "name": "python3"
  },
  "language_info": {
   "codemirror_mode": {
    "name": "ipython",
    "version": 3
   },
   "file_extension": ".py",
   "mimetype": "text/x-python",
   "name": "python",
   "nbconvert_exporter": "python",
   "pygments_lexer": "ipython3",
   "version": "3.8.11"
  }
 },
 "nbformat": 4,
 "nbformat_minor": 2
}
